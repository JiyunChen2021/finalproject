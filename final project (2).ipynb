{
 "cells": [
  {
   "cell_type": "code",
   "execution_count": 83,
   "metadata": {},
   "outputs": [],
   "source": [
    "NYC_Poverty <- read.csv(\"NYCgov_Poverty_Measure_Data__2018_.csv\")\n",
    "\n",
    "library(ggplot2)\n",
    "library(broom)\n",
    "library(dplyr)\n",
    "library(stringr)\n",
    "library(tidyverse)"
   ]
  },
  {
   "cell_type": "code",
   "execution_count": 84,
   "metadata": {},
   "outputs": [
    {
     "data": {
      "text/html": [
       "<table>\n",
       "<caption>A data.frame: 6 × 80</caption>\n",
       "<thead>\n",
       "\t<tr><th></th><th scope=col>SERIALNO</th><th scope=col>SPORDER</th><th scope=col>PWGTP</th><th scope=col>WGTP</th><th scope=col>AGEP</th><th scope=col>CIT</th><th scope=col>REL</th><th scope=col>SCH</th><th scope=col>SCHG</th><th scope=col>SCHL</th><th scope=col>⋯</th><th scope=col>NYCgov_IncomeTax</th><th scope=col>NYCgov_Income</th><th scope=col>NYCgov_EITC</th><th scope=col>Off_Threshold</th><th scope=col>Off_Pov_Stat</th><th scope=col>NYCgov_Threshold</th><th scope=col>NYCgov_Pov_Stat</th><th scope=col>NYCgov_PovGapIndex</th><th scope=col>NYCgov_PovGap</th><th scope=col>X</th></tr>\n",
       "\t<tr><th></th><th scope=col>&lt;int&gt;</th><th scope=col>&lt;int&gt;</th><th scope=col>&lt;int&gt;</th><th scope=col>&lt;int&gt;</th><th scope=col>&lt;int&gt;</th><th scope=col>&lt;int&gt;</th><th scope=col>&lt;int&gt;</th><th scope=col>&lt;int&gt;</th><th scope=col>&lt;int&gt;</th><th scope=col>&lt;int&gt;</th><th scope=col>⋯</th><th scope=col>&lt;dbl&gt;</th><th scope=col>&lt;dbl&gt;</th><th scope=col>&lt;dbl&gt;</th><th scope=col>&lt;int&gt;</th><th scope=col>&lt;int&gt;</th><th scope=col>&lt;dbl&gt;</th><th scope=col>&lt;int&gt;</th><th scope=col>&lt;dbl&gt;</th><th scope=col>&lt;dbl&gt;</th><th scope=col>&lt;int&gt;</th></tr>\n",
       "</thead>\n",
       "<tbody>\n",
       "\t<tr><th scope=row>1</th><td>      1</td><td>1</td><td> 95</td><td> 95</td><td>31</td><td>1</td><td> 0</td><td>1</td><td>0</td><td>22</td><td>⋯</td><td>33917.9858</td><td>81735.03</td><td>0</td><td>13064</td><td>2</td><td>16241.60</td><td>2</td><td>0</td><td>0</td><td>NA</td></tr>\n",
       "\t<tr><th scope=row>2</th><td>1000033</td><td>1</td><td> 53</td><td> 53</td><td>29</td><td>5</td><td> 0</td><td>1</td><td>0</td><td>20</td><td>⋯</td><td>16621.7209</td><td>77887.22</td><td>0</td><td>16815</td><td>2</td><td>22900.65</td><td>2</td><td>0</td><td>0</td><td>NA</td></tr>\n",
       "\t<tr><th scope=row>3</th><td>1000033</td><td>2</td><td> 61</td><td> 53</td><td>30</td><td>5</td><td> 1</td><td>1</td><td>0</td><td>21</td><td>⋯</td><td>16621.7209</td><td>77887.22</td><td>0</td><td>16815</td><td>2</td><td>22900.65</td><td>2</td><td>0</td><td>0</td><td>NA</td></tr>\n",
       "\t<tr><th scope=row>4</th><td>1000058</td><td>1</td><td>152</td><td>152</td><td>68</td><td>1</td><td> 0</td><td>1</td><td>0</td><td>12</td><td>⋯</td><td> -348.8956</td><td>31379.97</td><td>0</td><td>20212</td><td>2</td><td>30845.14</td><td>2</td><td>0</td><td>0</td><td>NA</td></tr>\n",
       "\t<tr><th scope=row>5</th><td>1000058</td><td>2</td><td>144</td><td>152</td><td>71</td><td>1</td><td> 1</td><td>1</td><td>0</td><td>16</td><td>⋯</td><td> -348.8956</td><td>31379.97</td><td>0</td><td>20212</td><td>2</td><td>30845.14</td><td>2</td><td>0</td><td>0</td><td>NA</td></tr>\n",
       "\t<tr><th scope=row>6</th><td>1000058</td><td>3</td><td>110</td><td>152</td><td> 6</td><td>1</td><td>10</td><td>3</td><td>3</td><td> 3</td><td>⋯</td><td> -348.8956</td><td>31379.97</td><td>0</td><td>20212</td><td>2</td><td>30845.14</td><td>2</td><td>0</td><td>0</td><td>NA</td></tr>\n",
       "</tbody>\n",
       "</table>\n"
      ],
      "text/latex": [
       "A data.frame: 6 × 80\n",
       "\\begin{tabular}{r|lllllllllllllllllllll}\n",
       "  & SERIALNO & SPORDER & PWGTP & WGTP & AGEP & CIT & REL & SCH & SCHG & SCHL & ⋯ & NYCgov\\_IncomeTax & NYCgov\\_Income & NYCgov\\_EITC & Off\\_Threshold & Off\\_Pov\\_Stat & NYCgov\\_Threshold & NYCgov\\_Pov\\_Stat & NYCgov\\_PovGapIndex & NYCgov\\_PovGap & X\\\\\n",
       "  & <int> & <int> & <int> & <int> & <int> & <int> & <int> & <int> & <int> & <int> & ⋯ & <dbl> & <dbl> & <dbl> & <int> & <int> & <dbl> & <int> & <dbl> & <dbl> & <int>\\\\\n",
       "\\hline\n",
       "\t1 &       1 & 1 &  95 &  95 & 31 & 1 &  0 & 1 & 0 & 22 & ⋯ & 33917.9858 & 81735.03 & 0 & 13064 & 2 & 16241.60 & 2 & 0 & 0 & NA\\\\\n",
       "\t2 & 1000033 & 1 &  53 &  53 & 29 & 5 &  0 & 1 & 0 & 20 & ⋯ & 16621.7209 & 77887.22 & 0 & 16815 & 2 & 22900.65 & 2 & 0 & 0 & NA\\\\\n",
       "\t3 & 1000033 & 2 &  61 &  53 & 30 & 5 &  1 & 1 & 0 & 21 & ⋯ & 16621.7209 & 77887.22 & 0 & 16815 & 2 & 22900.65 & 2 & 0 & 0 & NA\\\\\n",
       "\t4 & 1000058 & 1 & 152 & 152 & 68 & 1 &  0 & 1 & 0 & 12 & ⋯ &  -348.8956 & 31379.97 & 0 & 20212 & 2 & 30845.14 & 2 & 0 & 0 & NA\\\\\n",
       "\t5 & 1000058 & 2 & 144 & 152 & 71 & 1 &  1 & 1 & 0 & 16 & ⋯ &  -348.8956 & 31379.97 & 0 & 20212 & 2 & 30845.14 & 2 & 0 & 0 & NA\\\\\n",
       "\t6 & 1000058 & 3 & 110 & 152 &  6 & 1 & 10 & 3 & 3 &  3 & ⋯ &  -348.8956 & 31379.97 & 0 & 20212 & 2 & 30845.14 & 2 & 0 & 0 & NA\\\\\n",
       "\\end{tabular}\n"
      ],
      "text/markdown": [
       "\n",
       "A data.frame: 6 × 80\n",
       "\n",
       "| <!--/--> | SERIALNO &lt;int&gt; | SPORDER &lt;int&gt; | PWGTP &lt;int&gt; | WGTP &lt;int&gt; | AGEP &lt;int&gt; | CIT &lt;int&gt; | REL &lt;int&gt; | SCH &lt;int&gt; | SCHG &lt;int&gt; | SCHL &lt;int&gt; | ⋯ ⋯ | NYCgov_IncomeTax &lt;dbl&gt; | NYCgov_Income &lt;dbl&gt; | NYCgov_EITC &lt;dbl&gt; | Off_Threshold &lt;int&gt; | Off_Pov_Stat &lt;int&gt; | NYCgov_Threshold &lt;dbl&gt; | NYCgov_Pov_Stat &lt;int&gt; | NYCgov_PovGapIndex &lt;dbl&gt; | NYCgov_PovGap &lt;dbl&gt; | X &lt;int&gt; |\n",
       "|---|---|---|---|---|---|---|---|---|---|---|---|---|---|---|---|---|---|---|---|---|---|\n",
       "| 1 |       1 | 1 |  95 |  95 | 31 | 1 |  0 | 1 | 0 | 22 | ⋯ | 33917.9858 | 81735.03 | 0 | 13064 | 2 | 16241.60 | 2 | 0 | 0 | NA |\n",
       "| 2 | 1000033 | 1 |  53 |  53 | 29 | 5 |  0 | 1 | 0 | 20 | ⋯ | 16621.7209 | 77887.22 | 0 | 16815 | 2 | 22900.65 | 2 | 0 | 0 | NA |\n",
       "| 3 | 1000033 | 2 |  61 |  53 | 30 | 5 |  1 | 1 | 0 | 21 | ⋯ | 16621.7209 | 77887.22 | 0 | 16815 | 2 | 22900.65 | 2 | 0 | 0 | NA |\n",
       "| 4 | 1000058 | 1 | 152 | 152 | 68 | 1 |  0 | 1 | 0 | 12 | ⋯ |  -348.8956 | 31379.97 | 0 | 20212 | 2 | 30845.14 | 2 | 0 | 0 | NA |\n",
       "| 5 | 1000058 | 2 | 144 | 152 | 71 | 1 |  1 | 1 | 0 | 16 | ⋯ |  -348.8956 | 31379.97 | 0 | 20212 | 2 | 30845.14 | 2 | 0 | 0 | NA |\n",
       "| 6 | 1000058 | 3 | 110 | 152 |  6 | 1 | 10 | 3 | 3 |  3 | ⋯ |  -348.8956 | 31379.97 | 0 | 20212 | 2 | 30845.14 | 2 | 0 | 0 | NA |\n",
       "\n"
      ],
      "text/plain": [
       "  SERIALNO SPORDER PWGTP WGTP AGEP CIT REL SCH SCHG SCHL ⋯ NYCgov_IncomeTax\n",
       "1       1  1        95    95  31   1    0  1   0    22   ⋯ 33917.9858      \n",
       "2 1000033  1        53    53  29   5    0  1   0    20   ⋯ 16621.7209      \n",
       "3 1000033  2        61    53  30   5    1  1   0    21   ⋯ 16621.7209      \n",
       "4 1000058  1       152   152  68   1    0  1   0    12   ⋯  -348.8956      \n",
       "5 1000058  2       144   152  71   1    1  1   0    16   ⋯  -348.8956      \n",
       "6 1000058  3       110   152   6   1   10  3   3     3   ⋯  -348.8956      \n",
       "  NYCgov_Income NYCgov_EITC Off_Threshold Off_Pov_Stat NYCgov_Threshold\n",
       "1 81735.03      0           13064         2            16241.60        \n",
       "2 77887.22      0           16815         2            22900.65        \n",
       "3 77887.22      0           16815         2            22900.65        \n",
       "4 31379.97      0           20212         2            30845.14        \n",
       "5 31379.97      0           20212         2            30845.14        \n",
       "6 31379.97      0           20212         2            30845.14        \n",
       "  NYCgov_Pov_Stat NYCgov_PovGapIndex NYCgov_PovGap X \n",
       "1 2               0                  0             NA\n",
       "2 2               0                  0             NA\n",
       "3 2               0                  0             NA\n",
       "4 2               0                  0             NA\n",
       "5 2               0                  0             NA\n",
       "6 2               0                  0             NA"
      ]
     },
     "metadata": {},
     "output_type": "display_data"
    }
   ],
   "source": [
    "head(NYC_Poverty)"
   ]
  },
  {
   "cell_type": "code",
   "execution_count": 85,
   "metadata": {},
   "outputs": [],
   "source": [
    "subset <- NYC_Poverty[, c(\"SERIALNO\", \"AGEP\", \"CIT\", \"SEX\", \"ESR\", \"LANX\", \"ENG\", \"MAR\", \"DIS\", \"TEN\", 'FamType_PU', \"WAGP_adj\", \"SSP_adj\", \"RNTP_adj\", \"Ethnicity\", \"Boro\", \"EducAttain\", \"FTPTWork\", \"Off_Pov_Stat\", \"NYCgov_Income\", \"NYCgov_Pov_Stat\", \"NYCgov_Childcare\", \"NYCgov_Commuting\", \"NYCgov_MOOP\", \"NYCgov_MedSpending\", \"NYCgov_MedPremiums\", \"NYCgov_HEAP\", \"NYCgov_WIC\", \"NYCgov_SNAP\", \"NYCgov_SchoolLunch\", \"NYCgov_SchoolBreakfast\", \"NYCgov_FICAtax\", \"NYCgov_IncomeTax\", \"NYCgov_PovGap\", \"NYCgov_PovGapIndex\")]"
   ]
  },
  {
   "cell_type": "code",
   "execution_count": 86,
   "metadata": {},
   "outputs": [
    {
     "data": {
      "text/html": [
       "<table>\n",
       "<caption>A data.frame: 6 × 35</caption>\n",
       "<thead>\n",
       "\t<tr><th></th><th scope=col>SERIALNO</th><th scope=col>AGEP</th><th scope=col>CIT</th><th scope=col>SEX</th><th scope=col>ESR</th><th scope=col>LANX</th><th scope=col>ENG</th><th scope=col>MAR</th><th scope=col>DIS</th><th scope=col>TEN</th><th scope=col>⋯</th><th scope=col>NYCgov_MedPremiums</th><th scope=col>NYCgov_HEAP</th><th scope=col>NYCgov_WIC</th><th scope=col>NYCgov_SNAP</th><th scope=col>NYCgov_SchoolLunch</th><th scope=col>NYCgov_SchoolBreakfast</th><th scope=col>NYCgov_FICAtax</th><th scope=col>NYCgov_IncomeTax</th><th scope=col>NYCgov_PovGap</th><th scope=col>NYCgov_PovGapIndex</th></tr>\n",
       "\t<tr><th></th><th scope=col>&lt;int&gt;</th><th scope=col>&lt;int&gt;</th><th scope=col>&lt;int&gt;</th><th scope=col>&lt;int&gt;</th><th scope=col>&lt;int&gt;</th><th scope=col>&lt;int&gt;</th><th scope=col>&lt;int&gt;</th><th scope=col>&lt;int&gt;</th><th scope=col>&lt;int&gt;</th><th scope=col>&lt;int&gt;</th><th scope=col>⋯</th><th scope=col>&lt;dbl&gt;</th><th scope=col>&lt;dbl&gt;</th><th scope=col>&lt;dbl&gt;</th><th scope=col>&lt;int&gt;</th><th scope=col>&lt;dbl&gt;</th><th scope=col>&lt;dbl&gt;</th><th scope=col>&lt;dbl&gt;</th><th scope=col>&lt;dbl&gt;</th><th scope=col>&lt;dbl&gt;</th><th scope=col>&lt;dbl&gt;</th></tr>\n",
       "</thead>\n",
       "<tbody>\n",
       "\t<tr><th scope=row>1</th><td>      1</td><td>31</td><td>1</td><td>2</td><td> 1</td><td>2</td><td>NA</td><td>5</td><td>2</td><td>2</td><td>⋯</td><td>1560.00</td><td>0</td><td>0</td><td>0</td><td>  0.0</td><td>  0.00</td><td>9765.242</td><td>33917.9858</td><td>0</td><td>0</td></tr>\n",
       "\t<tr><th scope=row>2</th><td>1000033</td><td>29</td><td>5</td><td>2</td><td> 1</td><td>1</td><td> 1</td><td>1</td><td>2</td><td>2</td><td>⋯</td><td>9648.00</td><td>0</td><td>0</td><td>0</td><td>  0.0</td><td>  0.00</td><td>7750.192</td><td>16621.7209</td><td>0</td><td>0</td></tr>\n",
       "\t<tr><th scope=row>3</th><td>1000033</td><td>30</td><td>5</td><td>1</td><td> 1</td><td>1</td><td> 2</td><td>1</td><td>2</td><td>2</td><td>⋯</td><td>9648.00</td><td>0</td><td>0</td><td>0</td><td>  0.0</td><td>  0.00</td><td>7750.192</td><td>16621.7209</td><td>0</td><td>0</td></tr>\n",
       "\t<tr><th scope=row>4</th><td>1000058</td><td>68</td><td>1</td><td>1</td><td> 6</td><td>2</td><td>NA</td><td>1</td><td>1</td><td>1</td><td>⋯</td><td>1407.36</td><td>0</td><td>0</td><td>0</td><td>612.5</td><td>306.25</td><td>   0.000</td><td> -348.8956</td><td>0</td><td>0</td></tr>\n",
       "\t<tr><th scope=row>5</th><td>1000058</td><td>71</td><td>1</td><td>2</td><td> 6</td><td>2</td><td>NA</td><td>1</td><td>2</td><td>1</td><td>⋯</td><td>1407.36</td><td>0</td><td>0</td><td>0</td><td>612.5</td><td>306.25</td><td>   0.000</td><td> -348.8956</td><td>0</td><td>0</td></tr>\n",
       "\t<tr><th scope=row>6</th><td>1000058</td><td> 6</td><td>1</td><td>2</td><td>NA</td><td>2</td><td>NA</td><td>5</td><td>2</td><td>1</td><td>⋯</td><td>1407.36</td><td>0</td><td>0</td><td>0</td><td>612.5</td><td>306.25</td><td>   0.000</td><td> -348.8956</td><td>0</td><td>0</td></tr>\n",
       "</tbody>\n",
       "</table>\n"
      ],
      "text/latex": [
       "A data.frame: 6 × 35\n",
       "\\begin{tabular}{r|lllllllllllllllllllll}\n",
       "  & SERIALNO & AGEP & CIT & SEX & ESR & LANX & ENG & MAR & DIS & TEN & ⋯ & NYCgov\\_MedPremiums & NYCgov\\_HEAP & NYCgov\\_WIC & NYCgov\\_SNAP & NYCgov\\_SchoolLunch & NYCgov\\_SchoolBreakfast & NYCgov\\_FICAtax & NYCgov\\_IncomeTax & NYCgov\\_PovGap & NYCgov\\_PovGapIndex\\\\\n",
       "  & <int> & <int> & <int> & <int> & <int> & <int> & <int> & <int> & <int> & <int> & ⋯ & <dbl> & <dbl> & <dbl> & <int> & <dbl> & <dbl> & <dbl> & <dbl> & <dbl> & <dbl>\\\\\n",
       "\\hline\n",
       "\t1 &       1 & 31 & 1 & 2 &  1 & 2 & NA & 5 & 2 & 2 & ⋯ & 1560.00 & 0 & 0 & 0 &   0.0 &   0.00 & 9765.242 & 33917.9858 & 0 & 0\\\\\n",
       "\t2 & 1000033 & 29 & 5 & 2 &  1 & 1 &  1 & 1 & 2 & 2 & ⋯ & 9648.00 & 0 & 0 & 0 &   0.0 &   0.00 & 7750.192 & 16621.7209 & 0 & 0\\\\\n",
       "\t3 & 1000033 & 30 & 5 & 1 &  1 & 1 &  2 & 1 & 2 & 2 & ⋯ & 9648.00 & 0 & 0 & 0 &   0.0 &   0.00 & 7750.192 & 16621.7209 & 0 & 0\\\\\n",
       "\t4 & 1000058 & 68 & 1 & 1 &  6 & 2 & NA & 1 & 1 & 1 & ⋯ & 1407.36 & 0 & 0 & 0 & 612.5 & 306.25 &    0.000 &  -348.8956 & 0 & 0\\\\\n",
       "\t5 & 1000058 & 71 & 1 & 2 &  6 & 2 & NA & 1 & 2 & 1 & ⋯ & 1407.36 & 0 & 0 & 0 & 612.5 & 306.25 &    0.000 &  -348.8956 & 0 & 0\\\\\n",
       "\t6 & 1000058 &  6 & 1 & 2 & NA & 2 & NA & 5 & 2 & 1 & ⋯ & 1407.36 & 0 & 0 & 0 & 612.5 & 306.25 &    0.000 &  -348.8956 & 0 & 0\\\\\n",
       "\\end{tabular}\n"
      ],
      "text/markdown": [
       "\n",
       "A data.frame: 6 × 35\n",
       "\n",
       "| <!--/--> | SERIALNO &lt;int&gt; | AGEP &lt;int&gt; | CIT &lt;int&gt; | SEX &lt;int&gt; | ESR &lt;int&gt; | LANX &lt;int&gt; | ENG &lt;int&gt; | MAR &lt;int&gt; | DIS &lt;int&gt; | TEN &lt;int&gt; | ⋯ ⋯ | NYCgov_MedPremiums &lt;dbl&gt; | NYCgov_HEAP &lt;dbl&gt; | NYCgov_WIC &lt;dbl&gt; | NYCgov_SNAP &lt;int&gt; | NYCgov_SchoolLunch &lt;dbl&gt; | NYCgov_SchoolBreakfast &lt;dbl&gt; | NYCgov_FICAtax &lt;dbl&gt; | NYCgov_IncomeTax &lt;dbl&gt; | NYCgov_PovGap &lt;dbl&gt; | NYCgov_PovGapIndex &lt;dbl&gt; |\n",
       "|---|---|---|---|---|---|---|---|---|---|---|---|---|---|---|---|---|---|---|---|---|---|\n",
       "| 1 |       1 | 31 | 1 | 2 |  1 | 2 | NA | 5 | 2 | 2 | ⋯ | 1560.00 | 0 | 0 | 0 |   0.0 |   0.00 | 9765.242 | 33917.9858 | 0 | 0 |\n",
       "| 2 | 1000033 | 29 | 5 | 2 |  1 | 1 |  1 | 1 | 2 | 2 | ⋯ | 9648.00 | 0 | 0 | 0 |   0.0 |   0.00 | 7750.192 | 16621.7209 | 0 | 0 |\n",
       "| 3 | 1000033 | 30 | 5 | 1 |  1 | 1 |  2 | 1 | 2 | 2 | ⋯ | 9648.00 | 0 | 0 | 0 |   0.0 |   0.00 | 7750.192 | 16621.7209 | 0 | 0 |\n",
       "| 4 | 1000058 | 68 | 1 | 1 |  6 | 2 | NA | 1 | 1 | 1 | ⋯ | 1407.36 | 0 | 0 | 0 | 612.5 | 306.25 |    0.000 |  -348.8956 | 0 | 0 |\n",
       "| 5 | 1000058 | 71 | 1 | 2 |  6 | 2 | NA | 1 | 2 | 1 | ⋯ | 1407.36 | 0 | 0 | 0 | 612.5 | 306.25 |    0.000 |  -348.8956 | 0 | 0 |\n",
       "| 6 | 1000058 |  6 | 1 | 2 | NA | 2 | NA | 5 | 2 | 1 | ⋯ | 1407.36 | 0 | 0 | 0 | 612.5 | 306.25 |    0.000 |  -348.8956 | 0 | 0 |\n",
       "\n"
      ],
      "text/plain": [
       "  SERIALNO AGEP CIT SEX ESR LANX ENG MAR DIS TEN ⋯ NYCgov_MedPremiums\n",
       "1       1  31   1   2    1  2    NA  5   2   2   ⋯ 1560.00           \n",
       "2 1000033  29   5   2    1  1     1  1   2   2   ⋯ 9648.00           \n",
       "3 1000033  30   5   1    1  1     2  1   2   2   ⋯ 9648.00           \n",
       "4 1000058  68   1   1    6  2    NA  1   1   1   ⋯ 1407.36           \n",
       "5 1000058  71   1   2    6  2    NA  1   2   1   ⋯ 1407.36           \n",
       "6 1000058   6   1   2   NA  2    NA  5   2   1   ⋯ 1407.36           \n",
       "  NYCgov_HEAP NYCgov_WIC NYCgov_SNAP NYCgov_SchoolLunch NYCgov_SchoolBreakfast\n",
       "1 0           0          0             0.0                0.00                \n",
       "2 0           0          0             0.0                0.00                \n",
       "3 0           0          0             0.0                0.00                \n",
       "4 0           0          0           612.5              306.25                \n",
       "5 0           0          0           612.5              306.25                \n",
       "6 0           0          0           612.5              306.25                \n",
       "  NYCgov_FICAtax NYCgov_IncomeTax NYCgov_PovGap NYCgov_PovGapIndex\n",
       "1 9765.242       33917.9858       0             0                 \n",
       "2 7750.192       16621.7209       0             0                 \n",
       "3 7750.192       16621.7209       0             0                 \n",
       "4    0.000        -348.8956       0             0                 \n",
       "5    0.000        -348.8956       0             0                 \n",
       "6    0.000        -348.8956       0             0                 "
      ]
     },
     "metadata": {},
     "output_type": "display_data"
    }
   ],
   "source": [
    "head(subset)"
   ]
  },
  {
   "cell_type": "code",
   "execution_count": 87,
   "metadata": {},
   "outputs": [],
   "source": [
    "subset$SEX <- recode(subset$SEX, '1'='Male', '2'='Female')"
   ]
  },
  {
   "cell_type": "code",
   "execution_count": 88,
   "metadata": {},
   "outputs": [],
   "source": [
    "subset$CIT <- recode(subset$CIT, '1'='US citizen', '2'='US citizen', '3'='US citizen', '4'='US citizen', '5'='Non citizen')"
   ]
  },
  {
   "cell_type": "code",
   "execution_count": 89,
   "metadata": {},
   "outputs": [
    {
     "data": {
      "text/html": [
       "<table>\n",
       "<caption>A data.frame: 6 × 35</caption>\n",
       "<thead>\n",
       "\t<tr><th></th><th scope=col>SERIALNO</th><th scope=col>AGEP</th><th scope=col>CIT</th><th scope=col>SEX</th><th scope=col>ESR</th><th scope=col>LANX</th><th scope=col>ENG</th><th scope=col>MAR</th><th scope=col>DIS</th><th scope=col>TEN</th><th scope=col>⋯</th><th scope=col>NYCgov_MedPremiums</th><th scope=col>NYCgov_HEAP</th><th scope=col>NYCgov_WIC</th><th scope=col>NYCgov_SNAP</th><th scope=col>NYCgov_SchoolLunch</th><th scope=col>NYCgov_SchoolBreakfast</th><th scope=col>NYCgov_FICAtax</th><th scope=col>NYCgov_IncomeTax</th><th scope=col>NYCgov_PovGap</th><th scope=col>NYCgov_PovGapIndex</th></tr>\n",
       "\t<tr><th></th><th scope=col>&lt;int&gt;</th><th scope=col>&lt;int&gt;</th><th scope=col>&lt;chr&gt;</th><th scope=col>&lt;chr&gt;</th><th scope=col>&lt;int&gt;</th><th scope=col>&lt;int&gt;</th><th scope=col>&lt;int&gt;</th><th scope=col>&lt;int&gt;</th><th scope=col>&lt;int&gt;</th><th scope=col>&lt;int&gt;</th><th scope=col>⋯</th><th scope=col>&lt;dbl&gt;</th><th scope=col>&lt;dbl&gt;</th><th scope=col>&lt;dbl&gt;</th><th scope=col>&lt;int&gt;</th><th scope=col>&lt;dbl&gt;</th><th scope=col>&lt;dbl&gt;</th><th scope=col>&lt;dbl&gt;</th><th scope=col>&lt;dbl&gt;</th><th scope=col>&lt;dbl&gt;</th><th scope=col>&lt;dbl&gt;</th></tr>\n",
       "</thead>\n",
       "<tbody>\n",
       "\t<tr><th scope=row>2</th><td>1000033</td><td>29</td><td>Non citizen</td><td>Female</td><td>1</td><td>1</td><td>1</td><td>1</td><td>2</td><td>2</td><td>⋯</td><td>9648.00</td><td>0</td><td>0</td><td>0</td><td>0</td><td>0</td><td> 7750.192</td><td>16621.72</td><td>0</td><td>0</td></tr>\n",
       "\t<tr><th scope=row>3</th><td>1000033</td><td>30</td><td>Non citizen</td><td>Male  </td><td>1</td><td>1</td><td>2</td><td>1</td><td>2</td><td>2</td><td>⋯</td><td>9648.00</td><td>0</td><td>0</td><td>0</td><td>0</td><td>0</td><td> 7750.192</td><td>16621.72</td><td>0</td><td>0</td></tr>\n",
       "\t<tr><th scope=row>11</th><td>1000297</td><td>47</td><td>US citizen </td><td>Female</td><td>1</td><td>1</td><td>1</td><td>1</td><td>2</td><td>1</td><td>⋯</td><td>5459.76</td><td>0</td><td>0</td><td>0</td><td>0</td><td>0</td><td>12787.817</td><td>32575.16</td><td>0</td><td>0</td></tr>\n",
       "\t<tr><th scope=row>12</th><td>1000297</td><td>48</td><td>US citizen </td><td>Male  </td><td>1</td><td>1</td><td>1</td><td>1</td><td>2</td><td>1</td><td>⋯</td><td>5459.76</td><td>0</td><td>0</td><td>0</td><td>0</td><td>0</td><td>12787.817</td><td>32575.16</td><td>0</td><td>0</td></tr>\n",
       "\t<tr><th scope=row>15</th><td>1000313</td><td>30</td><td>Non citizen</td><td>Male  </td><td>1</td><td>1</td><td>1</td><td>5</td><td>2</td><td>3</td><td>⋯</td><td>6208.96</td><td>0</td><td>0</td><td>0</td><td>0</td><td>0</td><td>12787.817</td><td>37878.22</td><td>0</td><td>0</td></tr>\n",
       "\t<tr><th scope=row>16</th><td>1000313</td><td>26</td><td>US citizen </td><td>Female</td><td>1</td><td>1</td><td>2</td><td>5</td><td>2</td><td>3</td><td>⋯</td><td>6208.96</td><td>0</td><td>0</td><td>0</td><td>0</td><td>0</td><td>12787.817</td><td>37878.22</td><td>0</td><td>0</td></tr>\n",
       "</tbody>\n",
       "</table>\n"
      ],
      "text/latex": [
       "A data.frame: 6 × 35\n",
       "\\begin{tabular}{r|lllllllllllllllllllll}\n",
       "  & SERIALNO & AGEP & CIT & SEX & ESR & LANX & ENG & MAR & DIS & TEN & ⋯ & NYCgov\\_MedPremiums & NYCgov\\_HEAP & NYCgov\\_WIC & NYCgov\\_SNAP & NYCgov\\_SchoolLunch & NYCgov\\_SchoolBreakfast & NYCgov\\_FICAtax & NYCgov\\_IncomeTax & NYCgov\\_PovGap & NYCgov\\_PovGapIndex\\\\\n",
       "  & <int> & <int> & <chr> & <chr> & <int> & <int> & <int> & <int> & <int> & <int> & ⋯ & <dbl> & <dbl> & <dbl> & <int> & <dbl> & <dbl> & <dbl> & <dbl> & <dbl> & <dbl>\\\\\n",
       "\\hline\n",
       "\t2 & 1000033 & 29 & Non citizen & Female & 1 & 1 & 1 & 1 & 2 & 2 & ⋯ & 9648.00 & 0 & 0 & 0 & 0 & 0 &  7750.192 & 16621.72 & 0 & 0\\\\\n",
       "\t3 & 1000033 & 30 & Non citizen & Male   & 1 & 1 & 2 & 1 & 2 & 2 & ⋯ & 9648.00 & 0 & 0 & 0 & 0 & 0 &  7750.192 & 16621.72 & 0 & 0\\\\\n",
       "\t11 & 1000297 & 47 & US citizen  & Female & 1 & 1 & 1 & 1 & 2 & 1 & ⋯ & 5459.76 & 0 & 0 & 0 & 0 & 0 & 12787.817 & 32575.16 & 0 & 0\\\\\n",
       "\t12 & 1000297 & 48 & US citizen  & Male   & 1 & 1 & 1 & 1 & 2 & 1 & ⋯ & 5459.76 & 0 & 0 & 0 & 0 & 0 & 12787.817 & 32575.16 & 0 & 0\\\\\n",
       "\t15 & 1000313 & 30 & Non citizen & Male   & 1 & 1 & 1 & 5 & 2 & 3 & ⋯ & 6208.96 & 0 & 0 & 0 & 0 & 0 & 12787.817 & 37878.22 & 0 & 0\\\\\n",
       "\t16 & 1000313 & 26 & US citizen  & Female & 1 & 1 & 2 & 5 & 2 & 3 & ⋯ & 6208.96 & 0 & 0 & 0 & 0 & 0 & 12787.817 & 37878.22 & 0 & 0\\\\\n",
       "\\end{tabular}\n"
      ],
      "text/markdown": [
       "\n",
       "A data.frame: 6 × 35\n",
       "\n",
       "| <!--/--> | SERIALNO &lt;int&gt; | AGEP &lt;int&gt; | CIT &lt;chr&gt; | SEX &lt;chr&gt; | ESR &lt;int&gt; | LANX &lt;int&gt; | ENG &lt;int&gt; | MAR &lt;int&gt; | DIS &lt;int&gt; | TEN &lt;int&gt; | ⋯ ⋯ | NYCgov_MedPremiums &lt;dbl&gt; | NYCgov_HEAP &lt;dbl&gt; | NYCgov_WIC &lt;dbl&gt; | NYCgov_SNAP &lt;int&gt; | NYCgov_SchoolLunch &lt;dbl&gt; | NYCgov_SchoolBreakfast &lt;dbl&gt; | NYCgov_FICAtax &lt;dbl&gt; | NYCgov_IncomeTax &lt;dbl&gt; | NYCgov_PovGap &lt;dbl&gt; | NYCgov_PovGapIndex &lt;dbl&gt; |\n",
       "|---|---|---|---|---|---|---|---|---|---|---|---|---|---|---|---|---|---|---|---|---|---|\n",
       "| 2 | 1000033 | 29 | Non citizen | Female | 1 | 1 | 1 | 1 | 2 | 2 | ⋯ | 9648.00 | 0 | 0 | 0 | 0 | 0 |  7750.192 | 16621.72 | 0 | 0 |\n",
       "| 3 | 1000033 | 30 | Non citizen | Male   | 1 | 1 | 2 | 1 | 2 | 2 | ⋯ | 9648.00 | 0 | 0 | 0 | 0 | 0 |  7750.192 | 16621.72 | 0 | 0 |\n",
       "| 11 | 1000297 | 47 | US citizen  | Female | 1 | 1 | 1 | 1 | 2 | 1 | ⋯ | 5459.76 | 0 | 0 | 0 | 0 | 0 | 12787.817 | 32575.16 | 0 | 0 |\n",
       "| 12 | 1000297 | 48 | US citizen  | Male   | 1 | 1 | 1 | 1 | 2 | 1 | ⋯ | 5459.76 | 0 | 0 | 0 | 0 | 0 | 12787.817 | 32575.16 | 0 | 0 |\n",
       "| 15 | 1000313 | 30 | Non citizen | Male   | 1 | 1 | 1 | 5 | 2 | 3 | ⋯ | 6208.96 | 0 | 0 | 0 | 0 | 0 | 12787.817 | 37878.22 | 0 | 0 |\n",
       "| 16 | 1000313 | 26 | US citizen  | Female | 1 | 1 | 2 | 5 | 2 | 3 | ⋯ | 6208.96 | 0 | 0 | 0 | 0 | 0 | 12787.817 | 37878.22 | 0 | 0 |\n",
       "\n"
      ],
      "text/plain": [
       "   SERIALNO AGEP CIT         SEX    ESR LANX ENG MAR DIS TEN ⋯\n",
       "2  1000033  29   Non citizen Female 1   1    1   1   2   2   ⋯\n",
       "3  1000033  30   Non citizen Male   1   1    2   1   2   2   ⋯\n",
       "11 1000297  47   US citizen  Female 1   1    1   1   2   1   ⋯\n",
       "12 1000297  48   US citizen  Male   1   1    1   1   2   1   ⋯\n",
       "15 1000313  30   Non citizen Male   1   1    1   5   2   3   ⋯\n",
       "16 1000313  26   US citizen  Female 1   1    2   5   2   3   ⋯\n",
       "   NYCgov_MedPremiums NYCgov_HEAP NYCgov_WIC NYCgov_SNAP NYCgov_SchoolLunch\n",
       "2  9648.00            0           0          0           0                 \n",
       "3  9648.00            0           0          0           0                 \n",
       "11 5459.76            0           0          0           0                 \n",
       "12 5459.76            0           0          0           0                 \n",
       "15 6208.96            0           0          0           0                 \n",
       "16 6208.96            0           0          0           0                 \n",
       "   NYCgov_SchoolBreakfast NYCgov_FICAtax NYCgov_IncomeTax NYCgov_PovGap\n",
       "2  0                       7750.192      16621.72         0            \n",
       "3  0                       7750.192      16621.72         0            \n",
       "11 0                      12787.817      32575.16         0            \n",
       "12 0                      12787.817      32575.16         0            \n",
       "15 0                      12787.817      37878.22         0            \n",
       "16 0                      12787.817      37878.22         0            \n",
       "   NYCgov_PovGapIndex\n",
       "2  0                 \n",
       "3  0                 \n",
       "11 0                 \n",
       "12 0                 \n",
       "15 0                 \n",
       "16 0                 "
      ]
     },
     "metadata": {},
     "output_type": "display_data"
    }
   ],
   "source": [
    "subset = na.omit(subset) # the entire row which contains any NA is removed \n",
    "# 2/3 of ENG are missing data, so we need to decide if we want to include ENG as a var in our subset\n",
    "head(subset)"
   ]
  },
  {
   "cell_type": "code",
   "execution_count": 90,
   "metadata": {},
   "outputs": [
    {
     "data": {
      "text/html": [
       "27040"
      ],
      "text/latex": [
       "27040"
      ],
      "text/markdown": [
       "27040"
      ],
      "text/plain": [
       "[1] 27040"
      ]
     },
     "metadata": {},
     "output_type": "display_data"
    }
   ],
   "source": [
    "nrow(subset)"
   ]
  },
  {
   "cell_type": "code",
   "execution_count": 91,
   "metadata": {},
   "outputs": [],
   "source": [
    "eth.name = c('Non-Hispanic White','Non-Hispanic Black','Non-Hispanic Asian',\n",
    "             'Hispanic','Others')\n",
    "subset$Ethnicity = factor(subset$Ethnicity,levels = 1:5,labels = eth.name)"
   ]
  },
  {
   "cell_type": "code",
   "execution_count": 92,
   "metadata": {},
   "outputs": [],
   "source": [
    "subset$NYCgov_Pov_Stat <- recode(subset$NYCgov_Pov_Stat, '1'='In poverty','2'='Not in poverty')"
   ]
  },
  {
   "cell_type": "code",
   "execution_count": 93,
   "metadata": {},
   "outputs": [
    {
     "name": "stderr",
     "output_type": "stream",
     "text": [
      "Warning message:\n",
      "“Removed 24353 rows containing non-finite values (stat_boxplot).”\n"
     ]
    },
    {
     "data": {
      "image/png": "[encoded data removed]",
      "text/plain": [
       "plot without title"
      ]
     },
     "metadata": {
      "image/png": {
       "height": 420,
       "width": 420
      }
     },
     "output_type": "display_data"
    }
   ],
   "source": [
    "ggplot(subset,aes(x=Ethnicity,y=NYCgov_Income))+geom_boxplot()+ylim(5000, 20000)"
   ]
  },
  {
   "cell_type": "code",
   "execution_count": 94,
   "metadata": {},
   "outputs": [
    {
     "data": {
      "text/plain": [
       "                    \n",
       "                     less than HS High School Some College Bachelors or higher\n",
       "  Non-Hispanic White    0.1423879   0.2164559    0.1829529           0.4582033\n",
       "  Non-Hispanic Black    0.1966006   0.2424929    0.2878187           0.2730878\n",
       "  Non-Hispanic Asian    0.2473318   0.1882601    0.1701415           0.3942666\n",
       "  Hispanic              0.3126758   0.2694543    0.2449841           0.1728858\n",
       "  Others                0.1883117   0.1796537    0.1904762           0.4415584"
      ]
     },
     "metadata": {},
     "output_type": "display_data"
    }
   ],
   "source": [
    "opar = par(no.readonly =TRUE)\n",
    "par(mar=c(5,1.8,0.3,1),pin=c(4.8,2.5))\n",
    "Edu.name = c('less than HS','High School','Some College','Bachelors or higher')\n",
    "subset$EducAttain = factor(subset$EducAttain,labels = Edu.name)\n",
    "edu.t = prop.table(table(subset$Ethnicity,subset$EducAttain),1)\n",
    "edu.t"
   ]
  },
  {
   "cell_type": "code",
   "execution_count": 95,
   "metadata": {},
   "outputs": [
    {
     "data": {
      "image/png": "[encoded data removed]",
      "text/plain": [
       "plot without title"
      ]
     },
     "metadata": {
      "image/png": {
       "height": 420,
       "width": 420
      }
     },
     "output_type": "display_data"
    }
   ],
   "source": [
    "barplot(t(edu.t),col = topo.colors(4),cex.names=0.65,\n",
    "        xlab = 'Ethnicity',ylab = 'Edu attainment')\n",
    "legend(x='topright',legend = rownames(t(edu.t)),inset=-0.1,xpd=T,fill = topo.colors(4))"
   ]
  },
  {
   "cell_type": "code",
   "execution_count": 96,
   "metadata": {},
   "outputs": [],
   "source": [
    "subset$Boro <- recode(subset$Boro, '1'='Bronx','2'='Brooklyn', '3'='Manhattan', '4'='Queens', '5'='Staten Island')\n",
    "#subset$Boro"
   ]
  },
  {
   "cell_type": "code",
   "execution_count": 97,
   "metadata": {},
   "outputs": [],
   "source": [
    "subset$LANX <- recode(subset$LANX, '1'='Speaks other language','2'='Speaks only English')\n",
    "#subset$LANX"
   ]
  },
  {
   "cell_type": "code",
   "execution_count": 98,
   "metadata": {},
   "outputs": [],
   "source": [
    "subset$ENG <- recode(subset$ENG, '1'='Very well','2'='Well', '3'='Not well', '4'='Not at all')\n",
    "#subset$ENG"
   ]
  },
  {
   "cell_type": "code",
   "execution_count": 99,
   "metadata": {},
   "outputs": [],
   "source": [
    "subset$MAR <- recode(subset$MAR, '1'='Married','2'='Widowed', '3'='Divorced', '4'='Separated', '5'='Never married or under 15')\n",
    "#subset$MAR"
   ]
  },
  {
   "cell_type": "code",
   "execution_count": 100,
   "metadata": {},
   "outputs": [],
   "source": [
    "subset$DIS <- recode(subset$DIS, '1'='Disability','2'='No disability')\n",
    "#subset$DIS"
   ]
  },
  {
   "cell_type": "code",
   "execution_count": 101,
   "metadata": {},
   "outputs": [],
   "source": [
    "subset$TEN <- recode(subset$TEN, '1'='Owned with mortgage or loan','2'='Owned free and clear', '3'='Rented', '4'='Occupied without payment of rent')"
   ]
  },
  {
   "cell_type": "code",
   "execution_count": 102,
   "metadata": {},
   "outputs": [],
   "source": [
    "subset$FamType_PU <- recode(subset$FamType_PU, '1'='Husband/Wife+child ','2'='Husband/Wife no child ', '3'='Single Male+child', '4'='Single Female+child', '5'='Male unit head, no child','6'='Female unit head, no child','7'='Unrelated Indiv w/others','8'='Unrelated Indiv Alone')"
   ]
  },
  {
   "cell_type": "code",
   "execution_count": 103,
   "metadata": {},
   "outputs": [],
   "source": [
    "subset$FTPTWork <- recode(subset$FTPTWork, '1'='Full Time Year Round','2'='Part time','3'='No work')"
   ]
  },
  {
   "cell_type": "code",
   "execution_count": null,
   "metadata": {},
   "outputs": [],
   "source": []
  },
  {
   "cell_type": "code",
   "execution_count": null,
   "metadata": {},
   "outputs": [],
   "source": []
  },
  {
   "cell_type": "code",
   "execution_count": null,
   "metadata": {},
   "outputs": [],
   "source": []
  },
  {
   "cell_type": "code",
   "execution_count": null,
   "metadata": {},
   "outputs": [],
   "source": []
  },
  {
   "cell_type": "code",
   "execution_count": null,
   "metadata": {},
   "outputs": [],
   "source": []
  },
  {
   "cell_type": "code",
   "execution_count": null,
   "metadata": {},
   "outputs": [],
   "source": []
  }
 ],
 "metadata": {
  "kernelspec": {
   "display_name": "R",
   "language": "R",
   "name": "ir"
  },
  "language_info": {
   "codemirror_mode": "r",
   "file_extension": ".r",
   "mimetype": "text/x-r-source",
   "name": "R",
   "pygments_lexer": "r",
   "version": "4.0.0"
  }
 },
 "nbformat": 4,
 "nbformat_minor": 4
}
