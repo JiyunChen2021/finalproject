{
 "cells": [
  {
   "cell_type": "code",
   "execution_count": 28,
   "metadata": {},
   "outputs": [],
   "source": [
    "NYC_Poverty <- read.csv(\"NYCgov_Poverty_Measure_Data__2018_.csv\")\n",
    "\n",
    "library(ggplot2)\n",
    "library(broom)\n",
    "library(dplyr)\n",
    "library(stringr)\n",
    "library(tidyverse)"
   ]
  },
  {
   "cell_type": "code",
   "execution_count": 29,
   "metadata": {},
   "outputs": [
    {
     "data": {
      "text/html": [
       "<table>\n",
       "<caption>A data.frame: 6 × 80</caption>\n",
       "<thead>\n",
       "\t<tr><th></th><th scope=col>SERIALNO</th><th scope=col>SPORDER</th><th scope=col>PWGTP</th><th scope=col>WGTP</th><th scope=col>AGEP</th><th scope=col>CIT</th><th scope=col>REL</th><th scope=col>SCH</th><th scope=col>SCHG</th><th scope=col>SCHL</th><th scope=col>⋯</th><th scope=col>NYCgov_IncomeTax</th><th scope=col>NYCgov_Income</th><th scope=col>NYCgov_EITC</th><th scope=col>Off_Threshold</th><th scope=col>Off_Pov_Stat</th><th scope=col>NYCgov_Threshold</th><th scope=col>NYCgov_Pov_Stat</th><th scope=col>NYCgov_PovGapIndex</th><th scope=col>NYCgov_PovGap</th><th scope=col>X</th></tr>\n",
       "\t<tr><th></th><th scope=col>&lt;int&gt;</th><th scope=col>&lt;int&gt;</th><th scope=col>&lt;int&gt;</th><th scope=col>&lt;int&gt;</th><th scope=col>&lt;int&gt;</th><th scope=col>&lt;int&gt;</th><th scope=col>&lt;int&gt;</th><th scope=col>&lt;int&gt;</th><th scope=col>&lt;int&gt;</th><th scope=col>&lt;int&gt;</th><th scope=col>⋯</th><th scope=col>&lt;dbl&gt;</th><th scope=col>&lt;dbl&gt;</th><th scope=col>&lt;dbl&gt;</th><th scope=col>&lt;int&gt;</th><th scope=col>&lt;int&gt;</th><th scope=col>&lt;dbl&gt;</th><th scope=col>&lt;int&gt;</th><th scope=col>&lt;dbl&gt;</th><th scope=col>&lt;dbl&gt;</th><th scope=col>&lt;int&gt;</th></tr>\n",
       "</thead>\n",
       "<tbody>\n",
       "\t<tr><th scope=row>1</th><td>      1</td><td>1</td><td> 95</td><td> 95</td><td>31</td><td>1</td><td> 0</td><td>1</td><td>0</td><td>22</td><td>⋯</td><td>33917.9858</td><td>81735.03</td><td>0</td><td>13064</td><td>2</td><td>16241.60</td><td>2</td><td>0</td><td>0</td><td>NA</td></tr>\n",
       "\t<tr><th scope=row>2</th><td>1000033</td><td>1</td><td> 53</td><td> 53</td><td>29</td><td>5</td><td> 0</td><td>1</td><td>0</td><td>20</td><td>⋯</td><td>16621.7209</td><td>77887.22</td><td>0</td><td>16815</td><td>2</td><td>22900.65</td><td>2</td><td>0</td><td>0</td><td>NA</td></tr>\n",
       "\t<tr><th scope=row>3</th><td>1000033</td><td>2</td><td> 61</td><td> 53</td><td>30</td><td>5</td><td> 1</td><td>1</td><td>0</td><td>21</td><td>⋯</td><td>16621.7209</td><td>77887.22</td><td>0</td><td>16815</td><td>2</td><td>22900.65</td><td>2</td><td>0</td><td>0</td><td>NA</td></tr>\n",
       "\t<tr><th scope=row>4</th><td>1000058</td><td>1</td><td>152</td><td>152</td><td>68</td><td>1</td><td> 0</td><td>1</td><td>0</td><td>12</td><td>⋯</td><td> -348.8956</td><td>31379.97</td><td>0</td><td>20212</td><td>2</td><td>30845.14</td><td>2</td><td>0</td><td>0</td><td>NA</td></tr>\n",
       "\t<tr><th scope=row>5</th><td>1000058</td><td>2</td><td>144</td><td>152</td><td>71</td><td>1</td><td> 1</td><td>1</td><td>0</td><td>16</td><td>⋯</td><td> -348.8956</td><td>31379.97</td><td>0</td><td>20212</td><td>2</td><td>30845.14</td><td>2</td><td>0</td><td>0</td><td>NA</td></tr>\n",
       "\t<tr><th scope=row>6</th><td>1000058</td><td>3</td><td>110</td><td>152</td><td> 6</td><td>1</td><td>10</td><td>3</td><td>3</td><td> 3</td><td>⋯</td><td> -348.8956</td><td>31379.97</td><td>0</td><td>20212</td><td>2</td><td>30845.14</td><td>2</td><td>0</td><td>0</td><td>NA</td></tr>\n",
       "</tbody>\n",
       "</table>\n"
      ],
      "text/latex": [
       "A data.frame: 6 × 80\n",
       "\\begin{tabular}{r|lllllllllllllllllllll}\n",
       "  & SERIALNO & SPORDER & PWGTP & WGTP & AGEP & CIT & REL & SCH & SCHG & SCHL & ⋯ & NYCgov\\_IncomeTax & NYCgov\\_Income & NYCgov\\_EITC & Off\\_Threshold & Off\\_Pov\\_Stat & NYCgov\\_Threshold & NYCgov\\_Pov\\_Stat & NYCgov\\_PovGapIndex & NYCgov\\_PovGap & X\\\\\n",
       "  & <int> & <int> & <int> & <int> & <int> & <int> & <int> & <int> & <int> & <int> & ⋯ & <dbl> & <dbl> & <dbl> & <int> & <int> & <dbl> & <int> & <dbl> & <dbl> & <int>\\\\\n",
       "\\hline\n",
       "\t1 &       1 & 1 &  95 &  95 & 31 & 1 &  0 & 1 & 0 & 22 & ⋯ & 33917.9858 & 81735.03 & 0 & 13064 & 2 & 16241.60 & 2 & 0 & 0 & NA\\\\\n",
       "\t2 & 1000033 & 1 &  53 &  53 & 29 & 5 &  0 & 1 & 0 & 20 & ⋯ & 16621.7209 & 77887.22 & 0 & 16815 & 2 & 22900.65 & 2 & 0 & 0 & NA\\\\\n",
       "\t3 & 1000033 & 2 &  61 &  53 & 30 & 5 &  1 & 1 & 0 & 21 & ⋯ & 16621.7209 & 77887.22 & 0 & 16815 & 2 & 22900.65 & 2 & 0 & 0 & NA\\\\\n",
       "\t4 & 1000058 & 1 & 152 & 152 & 68 & 1 &  0 & 1 & 0 & 12 & ⋯ &  -348.8956 & 31379.97 & 0 & 20212 & 2 & 30845.14 & 2 & 0 & 0 & NA\\\\\n",
       "\t5 & 1000058 & 2 & 144 & 152 & 71 & 1 &  1 & 1 & 0 & 16 & ⋯ &  -348.8956 & 31379.97 & 0 & 20212 & 2 & 30845.14 & 2 & 0 & 0 & NA\\\\\n",
       "\t6 & 1000058 & 3 & 110 & 152 &  6 & 1 & 10 & 3 & 3 &  3 & ⋯ &  -348.8956 & 31379.97 & 0 & 20212 & 2 & 30845.14 & 2 & 0 & 0 & NA\\\\\n",
       "\\end{tabular}\n"
      ],
      "text/markdown": [
       "\n",
       "A data.frame: 6 × 80\n",
       "\n",
       "| <!--/--> | SERIALNO &lt;int&gt; | SPORDER &lt;int&gt; | PWGTP &lt;int&gt; | WGTP &lt;int&gt; | AGEP &lt;int&gt; | CIT &lt;int&gt; | REL &lt;int&gt; | SCH &lt;int&gt; | SCHG &lt;int&gt; | SCHL &lt;int&gt; | ⋯ ⋯ | NYCgov_IncomeTax &lt;dbl&gt; | NYCgov_Income &lt;dbl&gt; | NYCgov_EITC &lt;dbl&gt; | Off_Threshold &lt;int&gt; | Off_Pov_Stat &lt;int&gt; | NYCgov_Threshold &lt;dbl&gt; | NYCgov_Pov_Stat &lt;int&gt; | NYCgov_PovGapIndex &lt;dbl&gt; | NYCgov_PovGap &lt;dbl&gt; | X &lt;int&gt; |\n",
       "|---|---|---|---|---|---|---|---|---|---|---|---|---|---|---|---|---|---|---|---|---|---|\n",
       "| 1 |       1 | 1 |  95 |  95 | 31 | 1 |  0 | 1 | 0 | 22 | ⋯ | 33917.9858 | 81735.03 | 0 | 13064 | 2 | 16241.60 | 2 | 0 | 0 | NA |\n",
       "| 2 | 1000033 | 1 |  53 |  53 | 29 | 5 |  0 | 1 | 0 | 20 | ⋯ | 16621.7209 | 77887.22 | 0 | 16815 | 2 | 22900.65 | 2 | 0 | 0 | NA |\n",
       "| 3 | 1000033 | 2 |  61 |  53 | 30 | 5 |  1 | 1 | 0 | 21 | ⋯ | 16621.7209 | 77887.22 | 0 | 16815 | 2 | 22900.65 | 2 | 0 | 0 | NA |\n",
       "| 4 | 1000058 | 1 | 152 | 152 | 68 | 1 |  0 | 1 | 0 | 12 | ⋯ |  -348.8956 | 31379.97 | 0 | 20212 | 2 | 30845.14 | 2 | 0 | 0 | NA |\n",
       "| 5 | 1000058 | 2 | 144 | 152 | 71 | 1 |  1 | 1 | 0 | 16 | ⋯ |  -348.8956 | 31379.97 | 0 | 20212 | 2 | 30845.14 | 2 | 0 | 0 | NA |\n",
       "| 6 | 1000058 | 3 | 110 | 152 |  6 | 1 | 10 | 3 | 3 |  3 | ⋯ |  -348.8956 | 31379.97 | 0 | 20212 | 2 | 30845.14 | 2 | 0 | 0 | NA |\n",
       "\n"
      ],
      "text/plain": [
       "  SERIALNO SPORDER PWGTP WGTP AGEP CIT REL SCH SCHG SCHL ⋯ NYCgov_IncomeTax\n",
       "1       1  1        95    95  31   1    0  1   0    22   ⋯ 33917.9858      \n",
       "2 1000033  1        53    53  29   5    0  1   0    20   ⋯ 16621.7209      \n",
       "3 1000033  2        61    53  30   5    1  1   0    21   ⋯ 16621.7209      \n",
       "4 1000058  1       152   152  68   1    0  1   0    12   ⋯  -348.8956      \n",
       "5 1000058  2       144   152  71   1    1  1   0    16   ⋯  -348.8956      \n",
       "6 1000058  3       110   152   6   1   10  3   3     3   ⋯  -348.8956      \n",
       "  NYCgov_Income NYCgov_EITC Off_Threshold Off_Pov_Stat NYCgov_Threshold\n",
       "1 81735.03      0           13064         2            16241.60        \n",
       "2 77887.22      0           16815         2            22900.65        \n",
       "3 77887.22      0           16815         2            22900.65        \n",
       "4 31379.97      0           20212         2            30845.14        \n",
       "5 31379.97      0           20212         2            30845.14        \n",
       "6 31379.97      0           20212         2            30845.14        \n",
       "  NYCgov_Pov_Stat NYCgov_PovGapIndex NYCgov_PovGap X \n",
       "1 2               0                  0             NA\n",
       "2 2               0                  0             NA\n",
       "3 2               0                  0             NA\n",
       "4 2               0                  0             NA\n",
       "5 2               0                  0             NA\n",
       "6 2               0                  0             NA"
      ]
     },
     "metadata": {},
     "output_type": "display_data"
    }
   ],
   "source": [
    "head(NYC_Poverty)"
   ]
  },
  {
   "cell_type": "code",
   "execution_count": 30,
   "metadata": {},
   "outputs": [],
   "source": [
    "subset <- NYC_Poverty[, c(\"SERIALNO\", \"AGEP\", \"CIT\", \"SEX\", \"ESR\", \"LANX\", \"ENG\", \"MAR\", \"DIS\", \"TEN\", \"WAGP_adj\", \"SSP_adj\", \"RNTP_adj\", \"Ethnicity\", \"Boro\", \"EducAttain\", \"FTPTWork\", \"Off_Pov_Stat\", \"NYCgov_Income\", \"NYCgov_Pov_Stat\", \"NYCgov_Childcare\", \"NYCgov_Commuting\", \"NYCgov_MOOP\", \"NYCgov_MedSpending\", \"NYCgov_MedPremiums\", \"NYCgov_HEAP\", \"NYCgov_WIC\", \"NYCgov_SNAP\", \"NYCgov_SchoolLunch\", \"NYCgov_SchoolBreakfast\", \"NYCgov_FICAtax\", \"NYCgov_IncomeTax\", \"NYCgov_PovGap\", \"NYCgov_PovGapIndex\")]"
   ]
  },
  {
   "cell_type": "code",
   "execution_count": 31,
   "metadata": {},
   "outputs": [
    {
     "data": {
      "text/html": [
       "<table>\n",
       "<caption>A data.frame: 6 × 35</caption>\n",
       "<thead>\n",
       "\t<tr><th></th><th scope=col>SERIALNO</th><th scope=col>AGEP</th><th scope=col>CIT</th><th scope=col>SCH</th><th scope=col>SEX</th><th scope=col>ESR</th><th scope=col>LANX</th><th scope=col>ENG</th><th scope=col>MAR</th><th scope=col>DIS</th><th scope=col>⋯</th><th scope=col>NYCgov_MedPremiums</th><th scope=col>NYCgov_HEAP</th><th scope=col>NYCgov_WIC</th><th scope=col>NYCgov_SNAP</th><th scope=col>NYCgov_SchoolLunch</th><th scope=col>NYCgov_SchoolBreakfast</th><th scope=col>NYCgov_FICAtax</th><th scope=col>NYCgov_IncomeTax</th><th scope=col>NYCgov_PovGap</th><th scope=col>NYCgov_PovGapIndex</th></tr>\n",
       "\t<tr><th></th><th scope=col>&lt;int&gt;</th><th scope=col>&lt;int&gt;</th><th scope=col>&lt;int&gt;</th><th scope=col>&lt;int&gt;</th><th scope=col>&lt;int&gt;</th><th scope=col>&lt;int&gt;</th><th scope=col>&lt;int&gt;</th><th scope=col>&lt;int&gt;</th><th scope=col>&lt;int&gt;</th><th scope=col>&lt;int&gt;</th><th scope=col>⋯</th><th scope=col>&lt;dbl&gt;</th><th scope=col>&lt;dbl&gt;</th><th scope=col>&lt;dbl&gt;</th><th scope=col>&lt;int&gt;</th><th scope=col>&lt;dbl&gt;</th><th scope=col>&lt;dbl&gt;</th><th scope=col>&lt;dbl&gt;</th><th scope=col>&lt;dbl&gt;</th><th scope=col>&lt;dbl&gt;</th><th scope=col>&lt;dbl&gt;</th></tr>\n",
       "</thead>\n",
       "<tbody>\n",
       "\t<tr><th scope=row>1</th><td>      1</td><td>31</td><td>1</td><td>1</td><td>2</td><td> 1</td><td>2</td><td>NA</td><td>5</td><td>2</td><td>⋯</td><td>1560.00</td><td>0</td><td>0</td><td>0</td><td>  0.0</td><td>  0.00</td><td>9765.242</td><td>33917.9858</td><td>0</td><td>0</td></tr>\n",
       "\t<tr><th scope=row>2</th><td>1000033</td><td>29</td><td>5</td><td>1</td><td>2</td><td> 1</td><td>1</td><td> 1</td><td>1</td><td>2</td><td>⋯</td><td>9648.00</td><td>0</td><td>0</td><td>0</td><td>  0.0</td><td>  0.00</td><td>7750.192</td><td>16621.7209</td><td>0</td><td>0</td></tr>\n",
       "\t<tr><th scope=row>3</th><td>1000033</td><td>30</td><td>5</td><td>1</td><td>1</td><td> 1</td><td>1</td><td> 2</td><td>1</td><td>2</td><td>⋯</td><td>9648.00</td><td>0</td><td>0</td><td>0</td><td>  0.0</td><td>  0.00</td><td>7750.192</td><td>16621.7209</td><td>0</td><td>0</td></tr>\n",
       "\t<tr><th scope=row>4</th><td>1000058</td><td>68</td><td>1</td><td>1</td><td>1</td><td> 6</td><td>2</td><td>NA</td><td>1</td><td>1</td><td>⋯</td><td>1407.36</td><td>0</td><td>0</td><td>0</td><td>612.5</td><td>306.25</td><td>   0.000</td><td> -348.8956</td><td>0</td><td>0</td></tr>\n",
       "\t<tr><th scope=row>5</th><td>1000058</td><td>71</td><td>1</td><td>1</td><td>2</td><td> 6</td><td>2</td><td>NA</td><td>1</td><td>2</td><td>⋯</td><td>1407.36</td><td>0</td><td>0</td><td>0</td><td>612.5</td><td>306.25</td><td>   0.000</td><td> -348.8956</td><td>0</td><td>0</td></tr>\n",
       "\t<tr><th scope=row>6</th><td>1000058</td><td> 6</td><td>1</td><td>3</td><td>2</td><td>NA</td><td>2</td><td>NA</td><td>5</td><td>2</td><td>⋯</td><td>1407.36</td><td>0</td><td>0</td><td>0</td><td>612.5</td><td>306.25</td><td>   0.000</td><td> -348.8956</td><td>0</td><td>0</td></tr>\n",
       "</tbody>\n",
       "</table>\n"
      ],
      "text/latex": [
       "A data.frame: 6 × 35\n",
       "\\begin{tabular}{r|lllllllllllllllllllll}\n",
       "  & SERIALNO & AGEP & CIT & SCH & SEX & ESR & LANX & ENG & MAR & DIS & ⋯ & NYCgov\\_MedPremiums & NYCgov\\_HEAP & NYCgov\\_WIC & NYCgov\\_SNAP & NYCgov\\_SchoolLunch & NYCgov\\_SchoolBreakfast & NYCgov\\_FICAtax & NYCgov\\_IncomeTax & NYCgov\\_PovGap & NYCgov\\_PovGapIndex\\\\\n",
       "  & <int> & <int> & <int> & <int> & <int> & <int> & <int> & <int> & <int> & <int> & ⋯ & <dbl> & <dbl> & <dbl> & <int> & <dbl> & <dbl> & <dbl> & <dbl> & <dbl> & <dbl>\\\\\n",
       "\\hline\n",
       "\t1 &       1 & 31 & 1 & 1 & 2 &  1 & 2 & NA & 5 & 2 & ⋯ & 1560.00 & 0 & 0 & 0 &   0.0 &   0.00 & 9765.242 & 33917.9858 & 0 & 0\\\\\n",
       "\t2 & 1000033 & 29 & 5 & 1 & 2 &  1 & 1 &  1 & 1 & 2 & ⋯ & 9648.00 & 0 & 0 & 0 &   0.0 &   0.00 & 7750.192 & 16621.7209 & 0 & 0\\\\\n",
       "\t3 & 1000033 & 30 & 5 & 1 & 1 &  1 & 1 &  2 & 1 & 2 & ⋯ & 9648.00 & 0 & 0 & 0 &   0.0 &   0.00 & 7750.192 & 16621.7209 & 0 & 0\\\\\n",
       "\t4 & 1000058 & 68 & 1 & 1 & 1 &  6 & 2 & NA & 1 & 1 & ⋯ & 1407.36 & 0 & 0 & 0 & 612.5 & 306.25 &    0.000 &  -348.8956 & 0 & 0\\\\\n",
       "\t5 & 1000058 & 71 & 1 & 1 & 2 &  6 & 2 & NA & 1 & 2 & ⋯ & 1407.36 & 0 & 0 & 0 & 612.5 & 306.25 &    0.000 &  -348.8956 & 0 & 0\\\\\n",
       "\t6 & 1000058 &  6 & 1 & 3 & 2 & NA & 2 & NA & 5 & 2 & ⋯ & 1407.36 & 0 & 0 & 0 & 612.5 & 306.25 &    0.000 &  -348.8956 & 0 & 0\\\\\n",
       "\\end{tabular}\n"
      ],
      "text/markdown": [
       "\n",
       "A data.frame: 6 × 35\n",
       "\n",
       "| <!--/--> | SERIALNO &lt;int&gt; | AGEP &lt;int&gt; | CIT &lt;int&gt; | SCH &lt;int&gt; | SEX &lt;int&gt; | ESR &lt;int&gt; | LANX &lt;int&gt; | ENG &lt;int&gt; | MAR &lt;int&gt; | DIS &lt;int&gt; | ⋯ ⋯ | NYCgov_MedPremiums &lt;dbl&gt; | NYCgov_HEAP &lt;dbl&gt; | NYCgov_WIC &lt;dbl&gt; | NYCgov_SNAP &lt;int&gt; | NYCgov_SchoolLunch &lt;dbl&gt; | NYCgov_SchoolBreakfast &lt;dbl&gt; | NYCgov_FICAtax &lt;dbl&gt; | NYCgov_IncomeTax &lt;dbl&gt; | NYCgov_PovGap &lt;dbl&gt; | NYCgov_PovGapIndex &lt;dbl&gt; |\n",
       "|---|---|---|---|---|---|---|---|---|---|---|---|---|---|---|---|---|---|---|---|---|---|\n",
       "| 1 |       1 | 31 | 1 | 1 | 2 |  1 | 2 | NA | 5 | 2 | ⋯ | 1560.00 | 0 | 0 | 0 |   0.0 |   0.00 | 9765.242 | 33917.9858 | 0 | 0 |\n",
       "| 2 | 1000033 | 29 | 5 | 1 | 2 |  1 | 1 |  1 | 1 | 2 | ⋯ | 9648.00 | 0 | 0 | 0 |   0.0 |   0.00 | 7750.192 | 16621.7209 | 0 | 0 |\n",
       "| 3 | 1000033 | 30 | 5 | 1 | 1 |  1 | 1 |  2 | 1 | 2 | ⋯ | 9648.00 | 0 | 0 | 0 |   0.0 |   0.00 | 7750.192 | 16621.7209 | 0 | 0 |\n",
       "| 4 | 1000058 | 68 | 1 | 1 | 1 |  6 | 2 | NA | 1 | 1 | ⋯ | 1407.36 | 0 | 0 | 0 | 612.5 | 306.25 |    0.000 |  -348.8956 | 0 | 0 |\n",
       "| 5 | 1000058 | 71 | 1 | 1 | 2 |  6 | 2 | NA | 1 | 2 | ⋯ | 1407.36 | 0 | 0 | 0 | 612.5 | 306.25 |    0.000 |  -348.8956 | 0 | 0 |\n",
       "| 6 | 1000058 |  6 | 1 | 3 | 2 | NA | 2 | NA | 5 | 2 | ⋯ | 1407.36 | 0 | 0 | 0 | 612.5 | 306.25 |    0.000 |  -348.8956 | 0 | 0 |\n",
       "\n"
      ],
      "text/plain": [
       "  SERIALNO AGEP CIT SCH SEX ESR LANX ENG MAR DIS ⋯ NYCgov_MedPremiums\n",
       "1       1  31   1   1   2    1  2    NA  5   2   ⋯ 1560.00           \n",
       "2 1000033  29   5   1   2    1  1     1  1   2   ⋯ 9648.00           \n",
       "3 1000033  30   5   1   1    1  1     2  1   2   ⋯ 9648.00           \n",
       "4 1000058  68   1   1   1    6  2    NA  1   1   ⋯ 1407.36           \n",
       "5 1000058  71   1   1   2    6  2    NA  1   2   ⋯ 1407.36           \n",
       "6 1000058   6   1   3   2   NA  2    NA  5   2   ⋯ 1407.36           \n",
       "  NYCgov_HEAP NYCgov_WIC NYCgov_SNAP NYCgov_SchoolLunch NYCgov_SchoolBreakfast\n",
       "1 0           0          0             0.0                0.00                \n",
       "2 0           0          0             0.0                0.00                \n",
       "3 0           0          0             0.0                0.00                \n",
       "4 0           0          0           612.5              306.25                \n",
       "5 0           0          0           612.5              306.25                \n",
       "6 0           0          0           612.5              306.25                \n",
       "  NYCgov_FICAtax NYCgov_IncomeTax NYCgov_PovGap NYCgov_PovGapIndex\n",
       "1 9765.242       33917.9858       0             0                 \n",
       "2 7750.192       16621.7209       0             0                 \n",
       "3 7750.192       16621.7209       0             0                 \n",
       "4    0.000        -348.8956       0             0                 \n",
       "5    0.000        -348.8956       0             0                 \n",
       "6    0.000        -348.8956       0             0                 "
      ]
     },
     "metadata": {},
     "output_type": "display_data"
    }
   ],
   "source": [
    "head(subset)"
   ]
  },
  {
   "cell_type": "code",
   "execution_count": 32,
   "metadata": {},
   "outputs": [],
   "source": [
    "subset$SEX <- recode(subset$SEX, '1'='Male', '2'='Female')"
   ]
  },
  {
   "cell_type": "code",
   "execution_count": 34,
   "metadata": {},
   "outputs": [],
   "source": [
    "subset$CIT <- recode(subset$CIT, '1'='US citizen', '2'='US citizen', '3'='US citizen', '4'='US citizen', '5'='Non citizen')"
   ]
  },
  {
   "cell_type": "code",
   "execution_count": null,
   "metadata": {},
   "outputs": [],
   "source": []
  }
 ],
 "metadata": {
  "kernelspec": {
   "display_name": "R",
   "language": "R",
   "name": "ir"
  },
  "language_info": {
   "codemirror_mode": "r",
   "file_extension": ".r",
   "mimetype": "text/x-r-source",
   "name": "R",
   "pygments_lexer": "r",
   "version": "4.0.0"
  }
 },
 "nbformat": 4,
 "nbformat_minor": 4
}
